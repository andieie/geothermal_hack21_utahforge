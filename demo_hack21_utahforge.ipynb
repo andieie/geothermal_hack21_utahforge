{
 "metadata": {
  "language_info": {
   "codemirror_mode": {
    "name": "ipython",
    "version": 3
   },
   "file_extension": ".py",
   "mimetype": "text/x-python",
   "name": "python",
   "nbconvert_exporter": "python",
   "pygments_lexer": "ipython3",
   "version": "3.8.0"
  },
  "orig_nbformat": 2,
  "kernelspec": {
   "name": "python380jvsc74a57bd00dfc4777c535a94c54100d8067bd8f6bf148f644c1181f54f21cb9f21ef08be2",
   "display_name": "Python 3.8.0 64-bit ('utah-gravi': conda)"
  }
 },
 "nbformat": 4,
 "nbformat_minor": 2,
 "cells": [
  {
   "cell_type": "code",
   "execution_count": 1,
   "metadata": {},
   "outputs": [],
   "source": [
    "import get_gdr_database as gdr "
   ]
  },
  {
   "cell_type": "code",
   "execution_count": 2,
   "metadata": {},
   "outputs": [],
   "source": [
    "submissions = gdr.query_data('utah forge')"
   ]
  },
  {
   "cell_type": "code",
   "execution_count": 3,
   "metadata": {},
   "outputs": [
    {
     "output_type": "stream",
     "name": "stdout",
     "text": [
      "Does not have resource thing you can download for index 1295/\nDoes not have resource thing you can download for index 1286/\nDoes not have resource thing you can download for index 1222/\nDoes not have resource thing you can download for index 1215/\nDoes not have resource thing you can download for index 1207/\nDoes not have resource thing you can download for index 1207/\nDoes not have resource thing you can download for index 1207/\nDoes not have resource thing you can download for index 1185/\nDoes not have resource thing you can download for index 1185/\nDoes not have resource thing you can download for index 1185/\nDoes not have resource thing you can download for index 1146/\nDoes not have resource thing you can download for index 1110/\nDoes not have resource thing you can download for index 1083/\nDoes not have resource thing you can download for index 1076/\nDoes not have resource thing you can download for index 1052/\nDoes not have resource thing you can download for index 1039/\nDoes not have resource thing you can download for index 1036/\nDoes not have resource thing you can download for index 794/\nDoes not have resource thing you can download for index 794/\nDoes not have resource thing you can download for index 704/\nDoes not have resource thing you can download for index 703/\nDoes not have resource thing you can download for index 702/\nDoes not have resource thing you can download for index 701/\nDoes not have resource thing you can download for index 700/\nDoes not have resource thing you can download for index 699/\nDoes not have resource thing you can download for index 698/\nDoes not have resource thing you can download for index 697/\nDoes not have resource thing you can download for index 696/\n"
     ]
    }
   ],
   "source": [
    "df = gdr.merge_dataframes(submissions)"
   ]
  },
  {
   "cell_type": "code",
   "execution_count": 4,
   "metadata": {},
   "outputs": [
    {
     "output_type": "execute_result",
     "data": {
      "text/plain": [
       "                                      submissionName  \\\n",
       "0  Utah FORGE: Well 58-32 (MU-ESW1) FMI Log Fract...   \n",
       "1  Utah FORGE: Well 16A(78)-32: Summary of Drilli...   \n",
       "2      Utah FORGE: Well 56-32 Drilling Data and Logs   \n",
       "3      Utah FORGE: Well 56-32 Drilling Data and Logs   \n",
       "4      Utah FORGE: Well 56-32 Drilling Data and Logs   \n",
       "\n",
       "                                            abstract       fullName  \\\n",
       "0  A Schlumberger Fullbore Formation Micro-Imager...  John McLennan   \n",
       "1  This is a 74 page detailed summary of the dril...  John McLennan   \n",
       "2  This dataset consists of drilling data (Pason ...  John McLennan   \n",
       "3  This dataset consists of drilling data (Pason ...  John McLennan   \n",
       "4  This dataset consists of drilling data (Pason ...  John McLennan   \n",
       "\n",
       "                    email       phone  \\\n",
       "0  jmclennan@egi.utah.edu  8015877925   \n",
       "1  jmclennan@egi.utah.edu  8015877925   \n",
       "2  jmclennan@egi.utah.edu  8015877925   \n",
       "3  jmclennan@egi.utah.edu  8015877925   \n",
       "4  jmclennan@egi.utah.edu  8015877925   \n",
       "\n",
       "                                           publisher publicationDate  \\\n",
       "0  Energy and Geoscience Institute at the Univers...      03/06/2021   \n",
       "1  Energy and Geoscience Institute at the Univers...      03/20/2021   \n",
       "2  Energy and Geoscience Institute at the Univers...      03/19/2021   \n",
       "3  Energy and Geoscience Institute at the Univers...      03/19/2021   \n",
       "4  Energy and Geoscience Institute at the Univers...      03/19/2021   \n",
       "\n",
       "  projectTitle projectNumber  projectLead  ...  \\\n",
       "0   Utah FORGE     EE0007080  Lauren Boyd  ...   \n",
       "1   Utah FORGE     EE0007080  Lauren Boyd  ...   \n",
       "2   Utah FORGE     EE0007080  Lauren Boyd  ...   \n",
       "3   Utah FORGE     EE0007080  Lauren Boyd  ...   \n",
       "4   Utah FORGE     EE0007080  Lauren Boyd  ...   \n",
       "\n",
       "                                             updated userId xdrId hasConsent  \\\n",
       "0  [{'$date': {'$numberLong': '1617473257000'}}, ...  21982  1299          1   \n",
       "1  [{'$date': {'$numberLong': '1616349935000'}}, ...  21982  1296          1   \n",
       "2  [{'$date': {'$numberLong': '1616177075000'}}, ...  21982  1295          1   \n",
       "3  [{'$date': {'$numberLong': '1616177075000'}}, ...  21982  1295          1   \n",
       "4  [{'$date': {'$numberLong': '1616177075000'}}, ...  21982  1295          1   \n",
       "\n",
       "                                     submitted  hasBeenCurated  \\\n",
       "0  {'$date': {'$numberLong': '1617558230000'}}            True   \n",
       "1  {'$date': {'$numberLong': '1616365456000'}}            True   \n",
       "2  {'$date': {'$numberLong': '1616261352000'}}            True   \n",
       "3  {'$date': {'$numberLong': '1616261352000'}}            True   \n",
       "4  {'$date': {'$numberLong': '1616261352000'}}            True   \n",
       "\n",
       "   hasDOIAppropriateResources               DOI moratorium  \\\n",
       "0                       False               NaN        NaN   \n",
       "1                       False               NaN        NaN   \n",
       "2                        True  10.15121/1777170        NaN   \n",
       "3                        True  10.15121/1777170        NaN   \n",
       "4                        True  10.15121/1777170        NaN   \n",
       "\n",
       "                                                 Url  \n",
       "0  https://gdr.openei.org/files/1299/University_o...  \n",
       "1  https://gdr.openei.org/files/1296/Drilling Sum...  \n",
       "2  https://gdr.openei.org/files/1295/56-32 Daily ...  \n",
       "3  https://gdr.openei.org/files/1295/56-32 DaysVs...  \n",
       "4  https://gdr.openei.org/files/1295/56-32 Daily ...  \n",
       "\n",
       "[5 rows x 24 columns]"
      ],
      "text/html": "<div>\n<style scoped>\n    .dataframe tbody tr th:only-of-type {\n        vertical-align: middle;\n    }\n\n    .dataframe tbody tr th {\n        vertical-align: top;\n    }\n\n    .dataframe thead th {\n        text-align: right;\n    }\n</style>\n<table border=\"1\" class=\"dataframe\">\n  <thead>\n    <tr style=\"text-align: right;\">\n      <th></th>\n      <th>submissionName</th>\n      <th>abstract</th>\n      <th>fullName</th>\n      <th>email</th>\n      <th>phone</th>\n      <th>publisher</th>\n      <th>publicationDate</th>\n      <th>projectTitle</th>\n      <th>projectNumber</th>\n      <th>projectLead</th>\n      <th>...</th>\n      <th>updated</th>\n      <th>userId</th>\n      <th>xdrId</th>\n      <th>hasConsent</th>\n      <th>submitted</th>\n      <th>hasBeenCurated</th>\n      <th>hasDOIAppropriateResources</th>\n      <th>DOI</th>\n      <th>moratorium</th>\n      <th>Url</th>\n    </tr>\n  </thead>\n  <tbody>\n    <tr>\n      <th>0</th>\n      <td>Utah FORGE: Well 58-32 (MU-ESW1) FMI Log Fract...</td>\n      <td>A Schlumberger Fullbore Formation Micro-Imager...</td>\n      <td>John McLennan</td>\n      <td>jmclennan@egi.utah.edu</td>\n      <td>8015877925</td>\n      <td>Energy and Geoscience Institute at the Univers...</td>\n      <td>03/06/2021</td>\n      <td>Utah FORGE</td>\n      <td>EE0007080</td>\n      <td>Lauren Boyd</td>\n      <td>...</td>\n      <td>[{'$date': {'$numberLong': '1617473257000'}}, ...</td>\n      <td>21982</td>\n      <td>1299</td>\n      <td>1</td>\n      <td>{'$date': {'$numberLong': '1617558230000'}}</td>\n      <td>True</td>\n      <td>False</td>\n      <td>NaN</td>\n      <td>NaN</td>\n      <td>https://gdr.openei.org/files/1299/University_o...</td>\n    </tr>\n    <tr>\n      <th>1</th>\n      <td>Utah FORGE: Well 16A(78)-32: Summary of Drilli...</td>\n      <td>This is a 74 page detailed summary of the dril...</td>\n      <td>John McLennan</td>\n      <td>jmclennan@egi.utah.edu</td>\n      <td>8015877925</td>\n      <td>Energy and Geoscience Institute at the Univers...</td>\n      <td>03/20/2021</td>\n      <td>Utah FORGE</td>\n      <td>EE0007080</td>\n      <td>Lauren Boyd</td>\n      <td>...</td>\n      <td>[{'$date': {'$numberLong': '1616349935000'}}, ...</td>\n      <td>21982</td>\n      <td>1296</td>\n      <td>1</td>\n      <td>{'$date': {'$numberLong': '1616365456000'}}</td>\n      <td>True</td>\n      <td>False</td>\n      <td>NaN</td>\n      <td>NaN</td>\n      <td>https://gdr.openei.org/files/1296/Drilling Sum...</td>\n    </tr>\n    <tr>\n      <th>2</th>\n      <td>Utah FORGE: Well 56-32 Drilling Data and Logs</td>\n      <td>This dataset consists of drilling data (Pason ...</td>\n      <td>John McLennan</td>\n      <td>jmclennan@egi.utah.edu</td>\n      <td>8015877925</td>\n      <td>Energy and Geoscience Institute at the Univers...</td>\n      <td>03/19/2021</td>\n      <td>Utah FORGE</td>\n      <td>EE0007080</td>\n      <td>Lauren Boyd</td>\n      <td>...</td>\n      <td>[{'$date': {'$numberLong': '1616177075000'}}, ...</td>\n      <td>21982</td>\n      <td>1295</td>\n      <td>1</td>\n      <td>{'$date': {'$numberLong': '1616261352000'}}</td>\n      <td>True</td>\n      <td>True</td>\n      <td>10.15121/1777170</td>\n      <td>NaN</td>\n      <td>https://gdr.openei.org/files/1295/56-32 Daily ...</td>\n    </tr>\n    <tr>\n      <th>3</th>\n      <td>Utah FORGE: Well 56-32 Drilling Data and Logs</td>\n      <td>This dataset consists of drilling data (Pason ...</td>\n      <td>John McLennan</td>\n      <td>jmclennan@egi.utah.edu</td>\n      <td>8015877925</td>\n      <td>Energy and Geoscience Institute at the Univers...</td>\n      <td>03/19/2021</td>\n      <td>Utah FORGE</td>\n      <td>EE0007080</td>\n      <td>Lauren Boyd</td>\n      <td>...</td>\n      <td>[{'$date': {'$numberLong': '1616177075000'}}, ...</td>\n      <td>21982</td>\n      <td>1295</td>\n      <td>1</td>\n      <td>{'$date': {'$numberLong': '1616261352000'}}</td>\n      <td>True</td>\n      <td>True</td>\n      <td>10.15121/1777170</td>\n      <td>NaN</td>\n      <td>https://gdr.openei.org/files/1295/56-32 DaysVs...</td>\n    </tr>\n    <tr>\n      <th>4</th>\n      <td>Utah FORGE: Well 56-32 Drilling Data and Logs</td>\n      <td>This dataset consists of drilling data (Pason ...</td>\n      <td>John McLennan</td>\n      <td>jmclennan@egi.utah.edu</td>\n      <td>8015877925</td>\n      <td>Energy and Geoscience Institute at the Univers...</td>\n      <td>03/19/2021</td>\n      <td>Utah FORGE</td>\n      <td>EE0007080</td>\n      <td>Lauren Boyd</td>\n      <td>...</td>\n      <td>[{'$date': {'$numberLong': '1616177075000'}}, ...</td>\n      <td>21982</td>\n      <td>1295</td>\n      <td>1</td>\n      <td>{'$date': {'$numberLong': '1616261352000'}}</td>\n      <td>True</td>\n      <td>True</td>\n      <td>10.15121/1777170</td>\n      <td>NaN</td>\n      <td>https://gdr.openei.org/files/1295/56-32 Daily ...</td>\n    </tr>\n  </tbody>\n</table>\n<p>5 rows × 24 columns</p>\n</div>"
     },
     "metadata": {},
     "execution_count": 4
    }
   ],
   "source": [
    "df.head()"
   ]
  },
  {
   "cell_type": "code",
   "execution_count": 5,
   "metadata": {},
   "outputs": [
    {
     "output_type": "stream",
     "name": "stdout",
     "text": [
      "submissionName\nabstract\nfullName\nemail\nphone\npublisher\npublicationDate\nprojectTitle\nprojectNumber\nprojectLead\nauthors\nresources\nkeywords\ncreated\nupdated\nuserId\nxdrId\nhasConsent\nsubmitted\nhasBeenCurated\nhasDOIAppropriateResources\nDOI\nmoratorium\nUrl\n"
     ]
    }
   ],
   "source": [
    "for c in df.columns:\n",
    "    print(c)"
   ]
  },
  {
   "cell_type": "code",
   "execution_count": 6,
   "metadata": {},
   "outputs": [
    {
     "output_type": "execute_result",
     "data": {
      "text/plain": [
       "'A Schlumberger Fullbore Formation Micro-Imager (FMI) log was run from 7390 feet to 7527 feet depth in well 58-32, originally known as well MU-ESW1. Well 58-32 was completed in 2017 as part of Utah FORGE Phase 2. It reached a depth of 7536 feet and recorded a bottom hole temperature of 386 degrees F (197 degrees C) after penetrating more than 4500 feet of granite. This submission includes a text file containing the final fracture results of the Schlumberger FMI log.'"
      ]
     },
     "metadata": {},
     "execution_count": 6
    }
   ],
   "source": [
    "abstract = df.iloc[0]['abstract']\n",
    "abstract"
   ]
  },
  {
   "cell_type": "code",
   "execution_count": 7,
   "metadata": {},
   "outputs": [],
   "source": [
    "url = df.iloc[0]['Url']"
   ]
  },
  {
   "cell_type": "code",
   "execution_count": 8,
   "metadata": {},
   "outputs": [
    {
     "output_type": "display_data",
     "data": {
      "text/plain": "<IPython.core.display.HTML object>",
      "text/html": "<a href=https://gdr.openei.org/files/1299/University_of_Utah_MU-ESW1_FMI-HD_7390-7527ft_Dip Final 3rdRun_Frac_Aps_Only.txt>University_of_Utah_MU-ESW1_FMI-HD_7390-7527ft_Dip Final 3rdRun_Frac_Aps_Only.txt</a>"
     },
     "metadata": {}
    }
   ],
   "source": [
    "gdr.make_link(url)"
   ]
  },
  {
   "cell_type": "code",
   "execution_count": 43,
   "metadata": {},
   "outputs": [
    {
     "output_type": "execute_result",
     "data": {
      "text/plain": [
       "0      False\n",
       "1      False\n",
       "2      False\n",
       "3      False\n",
       "4      False\n",
       "       ...  \n",
       "293    False\n",
       "294    False\n",
       "295    False\n",
       "296    False\n",
       "297    False\n",
       "Name: submissionName, Length: 298, dtype: bool"
      ]
     },
     "metadata": {},
     "execution_count": 43
    }
   ],
   "source": [
    "keyword_idxs = df[\"submissionName\"].str.contains('Gravity')\n",
    "keyword_idxs"
   ]
  },
  {
   "cell_type": "code",
   "execution_count": 44,
   "metadata": {},
   "outputs": [
    {
     "output_type": "execute_result",
     "data": {
      "text/plain": [
       "                                 submissionName  \\\n",
       "137                 Utah FORGE: 3D Gravity Data   \n",
       "138                 Utah FORGE: 3D Gravity Data   \n",
       "232           Utah FORGE: TEM and Gravity Data    \n",
       "233           Utah FORGE: TEM and Gravity Data    \n",
       "234           Utah FORGE: TEM and Gravity Data    \n",
       "268  Utah FORGE: Milford Gravity Data Shapefile   \n",
       "289  Utah FORGE: U.S. Gravity and Magnetic Data   \n",
       "\n",
       "                                              abstract   fullName  \\\n",
       "137  These resources describe the 3D geophysical in...  Greg Nash   \n",
       "138  These resources describe the 3D geophysical in...  Greg Nash   \n",
       "232  This submission includes a gravity data in tex...  Greg Nash   \n",
       "233  This submission includes a gravity data in tex...  Greg Nash   \n",
       "234  This submission includes a gravity data in tex...  Greg Nash   \n",
       "268  This is a zipped GIS compatible shapefile of g...  Joe Moore   \n",
       "289  This is a link to Pan American Center for Eart...  Joe Moore   \n",
       "\n",
       "                   email       phone  \\\n",
       "137   gnash@egi.utah.edu  8015859986   \n",
       "138   gnash@egi.utah.edu  8015859986   \n",
       "232   gnash@egi.utah.edu  8015859986   \n",
       "233   gnash@egi.utah.edu  8015859986   \n",
       "234   gnash@egi.utah.edu  8015859986   \n",
       "268  jmoore@egi.utah.edu         NaN   \n",
       "289  jmoore@egi.utah.edu         NaN   \n",
       "\n",
       "                                             publisher publicationDate  \\\n",
       "137  Energy and Geoscience Institute at the Univers...      06/24/2019   \n",
       "138  Energy and Geoscience Institute at the Univers...      06/24/2019   \n",
       "232  Energy and Geoscience Institute at the Univers...      02/05/2018   \n",
       "233  Energy and Geoscience Institute at the Univers...      02/05/2018   \n",
       "234  Energy and Geoscience Institute at the Univers...      02/05/2018   \n",
       "268  Energy and Geoscience Institute at the Univers...      03/13/2016   \n",
       "289  Energy and Geoscience Institute at the Univers...      03/02/2016   \n",
       "\n",
       "                                          projectTitle projectNumber  \\\n",
       "137                                         Utah FORGE     EE0007080   \n",
       "138                                         Utah FORGE     EE0007080   \n",
       "232                                         Utah FORGE     EE0007080   \n",
       "233                                         Utah FORGE     EE0007080   \n",
       "234                                         Utah FORGE     EE0007080   \n",
       "268  Frontier Observatory for Research in Geotherma...     EE0007080   \n",
       "289  Frontier Observatory for Research in Geotherma...     EE0007080   \n",
       "\n",
       "     projectLead  ...                                            updated  \\\n",
       "137  Lauren Boyd  ...  [{'$date': {'$numberLong': '1561413349000'}}, ...   \n",
       "138  Lauren Boyd  ...  [{'$date': {'$numberLong': '1561413349000'}}, ...   \n",
       "232  Lauren Boyd  ...  [{'$date': {'$numberLong': '1517861654000'}}, ...   \n",
       "233  Lauren Boyd  ...  [{'$date': {'$numberLong': '1517861654000'}}, ...   \n",
       "234  Lauren Boyd  ...  [{'$date': {'$numberLong': '1517861654000'}}, ...   \n",
       "268  Lauren Boyd  ...  [{'$date': {'$numberLong': '1458581312000'}}, ...   \n",
       "289  Lauren Boyd  ...  [{'$date': {'$numberLong': '1456943110000'}}, ...   \n",
       "\n",
       "    userId xdrId hasConsent                                    submitted  \\\n",
       "137  21982  1144          1  {'$date': {'$numberLong': '1561413384000'}}   \n",
       "138  21982  1144          1  {'$date': {'$numberLong': '1561413384000'}}   \n",
       "232  21982  1002          1  {'$date': {'$numberLong': '1517862308000'}}   \n",
       "233  21982  1002          1  {'$date': {'$numberLong': '1517862308000'}}   \n",
       "234  21982  1002          1  {'$date': {'$numberLong': '1517862308000'}}   \n",
       "268  21982   717          1  {'$date': {'$numberLong': '1458581312000'}}   \n",
       "289  21982   704          1  {'$date': {'$numberLong': '1456943110000'}}   \n",
       "\n",
       "     hasBeenCurated  hasDOIAppropriateResources               DOI moratorium  \\\n",
       "137            True                        True  10.15121/1542061        NaN   \n",
       "138            True                        True  10.15121/1542061        NaN   \n",
       "232            True                        True  10.15121/1452733        NaN   \n",
       "233            True                        True  10.15121/1452733        NaN   \n",
       "234            True                        True  10.15121/1452733        NaN   \n",
       "268            True                        True  10.15121/1405037        NaN   \n",
       "289            True                       False               NaN        NaN   \n",
       "\n",
       "                                                   Url  \n",
       "137   https://gdr.openei.org/files/1144/README (1).txt  \n",
       "138  https://gdr.openei.org/files/1144/FORGE_3D_gra...  \n",
       "232  https://gdr.openei.org/files/1002/Utah_FORGE_g...  \n",
       "233  https://gdr.openei.org/files/1002/Utah_FORGE_T...  \n",
       "234  https://gdr.openei.org/files/1002/Utah_FORGE_G...  \n",
       "268  https://gdr.openei.org/files/717/Utah_FORGE_Gr...  \n",
       "289                                                NaN  \n",
       "\n",
       "[7 rows x 24 columns]"
      ],
      "text/html": "<div>\n<style scoped>\n    .dataframe tbody tr th:only-of-type {\n        vertical-align: middle;\n    }\n\n    .dataframe tbody tr th {\n        vertical-align: top;\n    }\n\n    .dataframe thead th {\n        text-align: right;\n    }\n</style>\n<table border=\"1\" class=\"dataframe\">\n  <thead>\n    <tr style=\"text-align: right;\">\n      <th></th>\n      <th>submissionName</th>\n      <th>abstract</th>\n      <th>fullName</th>\n      <th>email</th>\n      <th>phone</th>\n      <th>publisher</th>\n      <th>publicationDate</th>\n      <th>projectTitle</th>\n      <th>projectNumber</th>\n      <th>projectLead</th>\n      <th>...</th>\n      <th>updated</th>\n      <th>userId</th>\n      <th>xdrId</th>\n      <th>hasConsent</th>\n      <th>submitted</th>\n      <th>hasBeenCurated</th>\n      <th>hasDOIAppropriateResources</th>\n      <th>DOI</th>\n      <th>moratorium</th>\n      <th>Url</th>\n    </tr>\n  </thead>\n  <tbody>\n    <tr>\n      <th>137</th>\n      <td>Utah FORGE: 3D Gravity Data</td>\n      <td>These resources describe the 3D geophysical in...</td>\n      <td>Greg Nash</td>\n      <td>gnash@egi.utah.edu</td>\n      <td>8015859986</td>\n      <td>Energy and Geoscience Institute at the Univers...</td>\n      <td>06/24/2019</td>\n      <td>Utah FORGE</td>\n      <td>EE0007080</td>\n      <td>Lauren Boyd</td>\n      <td>...</td>\n      <td>[{'$date': {'$numberLong': '1561413349000'}}, ...</td>\n      <td>21982</td>\n      <td>1144</td>\n      <td>1</td>\n      <td>{'$date': {'$numberLong': '1561413384000'}}</td>\n      <td>True</td>\n      <td>True</td>\n      <td>10.15121/1542061</td>\n      <td>NaN</td>\n      <td>https://gdr.openei.org/files/1144/README (1).txt</td>\n    </tr>\n    <tr>\n      <th>138</th>\n      <td>Utah FORGE: 3D Gravity Data</td>\n      <td>These resources describe the 3D geophysical in...</td>\n      <td>Greg Nash</td>\n      <td>gnash@egi.utah.edu</td>\n      <td>8015859986</td>\n      <td>Energy and Geoscience Institute at the Univers...</td>\n      <td>06/24/2019</td>\n      <td>Utah FORGE</td>\n      <td>EE0007080</td>\n      <td>Lauren Boyd</td>\n      <td>...</td>\n      <td>[{'$date': {'$numberLong': '1561413349000'}}, ...</td>\n      <td>21982</td>\n      <td>1144</td>\n      <td>1</td>\n      <td>{'$date': {'$numberLong': '1561413384000'}}</td>\n      <td>True</td>\n      <td>True</td>\n      <td>10.15121/1542061</td>\n      <td>NaN</td>\n      <td>https://gdr.openei.org/files/1144/FORGE_3D_gra...</td>\n    </tr>\n    <tr>\n      <th>232</th>\n      <td>Utah FORGE: TEM and Gravity Data</td>\n      <td>This submission includes a gravity data in tex...</td>\n      <td>Greg Nash</td>\n      <td>gnash@egi.utah.edu</td>\n      <td>8015859986</td>\n      <td>Energy and Geoscience Institute at the Univers...</td>\n      <td>02/05/2018</td>\n      <td>Utah FORGE</td>\n      <td>EE0007080</td>\n      <td>Lauren Boyd</td>\n      <td>...</td>\n      <td>[{'$date': {'$numberLong': '1517861654000'}}, ...</td>\n      <td>21982</td>\n      <td>1002</td>\n      <td>1</td>\n      <td>{'$date': {'$numberLong': '1517862308000'}}</td>\n      <td>True</td>\n      <td>True</td>\n      <td>10.15121/1452733</td>\n      <td>NaN</td>\n      <td>https://gdr.openei.org/files/1002/Utah_FORGE_g...</td>\n    </tr>\n    <tr>\n      <th>233</th>\n      <td>Utah FORGE: TEM and Gravity Data</td>\n      <td>This submission includes a gravity data in tex...</td>\n      <td>Greg Nash</td>\n      <td>gnash@egi.utah.edu</td>\n      <td>8015859986</td>\n      <td>Energy and Geoscience Institute at the Univers...</td>\n      <td>02/05/2018</td>\n      <td>Utah FORGE</td>\n      <td>EE0007080</td>\n      <td>Lauren Boyd</td>\n      <td>...</td>\n      <td>[{'$date': {'$numberLong': '1517861654000'}}, ...</td>\n      <td>21982</td>\n      <td>1002</td>\n      <td>1</td>\n      <td>{'$date': {'$numberLong': '1517862308000'}}</td>\n      <td>True</td>\n      <td>True</td>\n      <td>10.15121/1452733</td>\n      <td>NaN</td>\n      <td>https://gdr.openei.org/files/1002/Utah_FORGE_T...</td>\n    </tr>\n    <tr>\n      <th>234</th>\n      <td>Utah FORGE: TEM and Gravity Data</td>\n      <td>This submission includes a gravity data in tex...</td>\n      <td>Greg Nash</td>\n      <td>gnash@egi.utah.edu</td>\n      <td>8015859986</td>\n      <td>Energy and Geoscience Institute at the Univers...</td>\n      <td>02/05/2018</td>\n      <td>Utah FORGE</td>\n      <td>EE0007080</td>\n      <td>Lauren Boyd</td>\n      <td>...</td>\n      <td>[{'$date': {'$numberLong': '1517861654000'}}, ...</td>\n      <td>21982</td>\n      <td>1002</td>\n      <td>1</td>\n      <td>{'$date': {'$numberLong': '1517862308000'}}</td>\n      <td>True</td>\n      <td>True</td>\n      <td>10.15121/1452733</td>\n      <td>NaN</td>\n      <td>https://gdr.openei.org/files/1002/Utah_FORGE_G...</td>\n    </tr>\n    <tr>\n      <th>268</th>\n      <td>Utah FORGE: Milford Gravity Data Shapefile</td>\n      <td>This is a zipped GIS compatible shapefile of g...</td>\n      <td>Joe Moore</td>\n      <td>jmoore@egi.utah.edu</td>\n      <td>NaN</td>\n      <td>Energy and Geoscience Institute at the Univers...</td>\n      <td>03/13/2016</td>\n      <td>Frontier Observatory for Research in Geotherma...</td>\n      <td>EE0007080</td>\n      <td>Lauren Boyd</td>\n      <td>...</td>\n      <td>[{'$date': {'$numberLong': '1458581312000'}}, ...</td>\n      <td>21982</td>\n      <td>717</td>\n      <td>1</td>\n      <td>{'$date': {'$numberLong': '1458581312000'}}</td>\n      <td>True</td>\n      <td>True</td>\n      <td>10.15121/1405037</td>\n      <td>NaN</td>\n      <td>https://gdr.openei.org/files/717/Utah_FORGE_Gr...</td>\n    </tr>\n    <tr>\n      <th>289</th>\n      <td>Utah FORGE: U.S. Gravity and Magnetic Data</td>\n      <td>This is a link to Pan American Center for Eart...</td>\n      <td>Joe Moore</td>\n      <td>jmoore@egi.utah.edu</td>\n      <td>NaN</td>\n      <td>Energy and Geoscience Institute at the Univers...</td>\n      <td>03/02/2016</td>\n      <td>Frontier Observatory for Research in Geotherma...</td>\n      <td>EE0007080</td>\n      <td>Lauren Boyd</td>\n      <td>...</td>\n      <td>[{'$date': {'$numberLong': '1456943110000'}}, ...</td>\n      <td>21982</td>\n      <td>704</td>\n      <td>1</td>\n      <td>{'$date': {'$numberLong': '1456943110000'}}</td>\n      <td>True</td>\n      <td>False</td>\n      <td>NaN</td>\n      <td>NaN</td>\n      <td>NaN</td>\n    </tr>\n  </tbody>\n</table>\n<p>7 rows × 24 columns</p>\n</div>"
     },
     "metadata": {},
     "execution_count": 44
    }
   ],
   "source": [
    "df[keyword_idxs]"
   ]
  },
  {
   "cell_type": "code",
   "execution_count": null,
   "metadata": {},
   "outputs": [],
   "source": []
  }
 ]
}